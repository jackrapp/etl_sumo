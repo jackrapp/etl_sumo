{
 "cells": [
  {
   "cell_type": "code",
   "execution_count": 1,
   "metadata": {},
   "outputs": [],
   "source": [
    "import pandas as pd\n",
    "import glob"
   ]
  },
  {
   "cell_type": "code",
   "execution_count": 2,
   "metadata": {},
   "outputs": [],
   "source": [
    "path = r'Desktop/sumoDemo'\n",
    "filenames = glob.glob(path + \"/*.csv\")\n",
    "dfs = []\n",
    "for filename in filenames:\n",
    "    dfs.append(pd.read_csv(filename))\n",
    "sumoR = pd.concat(dfs, ignore_index=True)"
   ]
  },
  {
   "cell_type": "code",
   "execution_count": 3,
   "metadata": {},
   "outputs": [
    {
     "data": {
      "text/html": [
       "<div>\n",
       "<style scoped>\n",
       "    .dataframe tbody tr th:only-of-type {\n",
       "        vertical-align: middle;\n",
       "    }\n",
       "\n",
       "    .dataframe tbody tr th {\n",
       "        vertical-align: top;\n",
       "    }\n",
       "\n",
       "    .dataframe thead th {\n",
       "        text-align: right;\n",
       "    }\n",
       "</style>\n",
       "<table border=\"1\" class=\"dataframe\">\n",
       "  <thead>\n",
       "    <tr style=\"text-align: right;\">\n",
       "      <th></th>\n",
       "      <th>rank</th>\n",
       "    </tr>\n",
       "  </thead>\n",
       "  <tbody>\n",
       "    <tr>\n",
       "      <th>0</th>\n",
       "      <td>Y</td>\n",
       "    </tr>\n",
       "    <tr>\n",
       "      <th>2</th>\n",
       "      <td>YHD</td>\n",
       "    </tr>\n",
       "    <tr>\n",
       "      <th>3</th>\n",
       "      <td>O</td>\n",
       "    </tr>\n",
       "    <tr>\n",
       "      <th>5</th>\n",
       "      <td>OHD</td>\n",
       "    </tr>\n",
       "    <tr>\n",
       "      <th>6</th>\n",
       "      <td>S</td>\n",
       "    </tr>\n",
       "    <tr>\n",
       "      <th>8</th>\n",
       "      <td>SHD</td>\n",
       "    </tr>\n",
       "    <tr>\n",
       "      <th>9</th>\n",
       "      <td>K</td>\n",
       "    </tr>\n",
       "    <tr>\n",
       "      <th>11</th>\n",
       "      <td>M</td>\n",
       "    </tr>\n",
       "    <tr>\n",
       "      <th>38</th>\n",
       "      <td>J</td>\n",
       "    </tr>\n",
       "    <tr>\n",
       "      <th>64</th>\n",
       "      <td>Ms</td>\n",
       "    </tr>\n",
       "    <tr>\n",
       "      <th>184</th>\n",
       "      <td>MsTD</td>\n",
       "    </tr>\n",
       "    <tr>\n",
       "      <th>185</th>\n",
       "      <td>Sd</td>\n",
       "    </tr>\n",
       "    <tr>\n",
       "      <th>385</th>\n",
       "      <td>Jd</td>\n",
       "    </tr>\n",
       "    <tr>\n",
       "      <th>665</th>\n",
       "      <td>Jk</td>\n",
       "    </tr>\n",
       "    <tr>\n",
       "      <th>4625</th>\n",
       "      <td>MsHD</td>\n",
       "    </tr>\n",
       "    <tr>\n",
       "      <th>5272</th>\n",
       "      <td>JkHD</td>\n",
       "    </tr>\n",
       "    <tr>\n",
       "      <th>16726</th>\n",
       "      <td>KHD</td>\n",
       "    </tr>\n",
       "    <tr>\n",
       "      <th>50443</th>\n",
       "      <td>MHD</td>\n",
       "    </tr>\n",
       "    <tr>\n",
       "      <th>73526</th>\n",
       "      <td>SdTD</td>\n",
       "    </tr>\n",
       "  </tbody>\n",
       "</table>\n",
       "</div>"
      ],
      "text/plain": [
       "       rank\n",
       "0         Y\n",
       "2       YHD\n",
       "3         O\n",
       "5       OHD\n",
       "6         S\n",
       "8       SHD\n",
       "9         K\n",
       "11        M\n",
       "38        J\n",
       "64       Ms\n",
       "184    MsTD\n",
       "185      Sd\n",
       "385      Jd\n",
       "665      Jk\n",
       "4625   MsHD\n",
       "5272   JkHD\n",
       "16726   KHD\n",
       "50443   MHD\n",
       "73526  SdTD"
      ]
     },
     "execution_count": 3,
     "metadata": {},
     "output_type": "execute_result"
    }
   ],
   "source": [
    "new = sumoR[['rank']].copy()\n",
    "new['rank'] = new['rank'].str.replace('\\d+', '')\n",
    "new['rank'] = new['rank'].str.replace('e', '')\n",
    "new['rank'] = new['rank'].str.replace('w', '')\n",
    "new=new.drop_duplicates()\n",
    "new"
   ]
  },
  {
   "cell_type": "code",
   "execution_count": 4,
   "metadata": {},
   "outputs": [],
   "source": [
    "import requests\n",
    "from bs4 import BeautifulSoup as bs"
   ]
  },
  {
   "cell_type": "code",
   "execution_count": 14,
   "metadata": {},
   "outputs": [
    {
     "data": {
      "text/plain": [
       "[<li class=\"mw-ui-icon mw-ui-icon-element mw-ui-icon-minerva-edit\" id=\"ca-edit\" title=\"Edit the lead section of this page\"><a class=\"edit-page\" href=\"/w/index.php?title=Template:Sumo_rank&amp;action=edit&amp;section=0\">Edit</a></li>,\n",
       " <li class=\"mw-ui-icon mw-ui-icon-element mw-ui-icon-minerva-watch watch-this-article\" id=\"ca-watch\"><a accesskey=\"w\" href=\"/w/index.php?title=Special:UserLogin&amp;returnto=Template%3ASumo+rank\" title=\"Add this page to your watchlist [w]\"></a></li>,\n",
       " <li class=\"mw-ui-icon mw-ui-icon-element mw-ui-icon-minerva-language-switcher language-selector\" title=\"Read in another language\"><a href=\"/wiki/Special:MobileLanguages/Template:Sumo_rank\">Read in another language</a></li>,\n",
       " <li><b>Y</b>: Yokozuna</li>,\n",
       " <li><b>O</b>: \\u014czeki</li>,\n",
       " <li><b>S</b>: Sekiwake</li>,\n",
       " <li><b>K</b>: Komosubi</li>,\n",
       " <li><b>M</b>: Maegashira</li>,\n",
       " <li><b>J</b>: J\\u016bry\\u014d</li>,\n",
       " <li><b>MA</b>: Makushita</li>,\n",
       " <li><b>MT</b>: Makushita tsukedashi</li>,\n",
       " <li><b>SA</b>: Sandanme</li>,\n",
       " <li><b>ST</b>: Sandanme tsukedashi</li>,\n",
       " <li><b>JO</b>: Jonidan</li>,\n",
       " <li><b>JK</b>: Jonokuchi</li>,\n",
       " <li><b>BG</b>: Banzuke-gai</li>,\n",
       " <li><b>SD</b>: Shin-deshi</li>,\n",
       " <li><b>SJ</b>: Shinjo</li>,\n",
       " <li id=\"footer-places-terms-use\"><a href=\"//m.wikimediafoundation.org/wiki/Terms_of_Use\">Terms of Use</a></li>,\n",
       " <li id=\"footer-places-privacy\"><a class=\"extiw\" href=\"https://foundation.wikimedia.org/wiki/Privacy_policy\" title=\"wmf:Privacy policy\">Privacy</a></li>,\n",
       " <li id=\"footer-places-desktop-toggle\"><a href=\"//en.wikipedia.org/w/index.php?title=Template:Sumo_rank&amp;mobileaction=toggle_view_desktop\" id=\"mw-mf-display-toggle\">Desktop</a></li>]"
      ]
     },
     "execution_count": 14,
     "metadata": {},
     "output_type": "execute_result"
    }
   ],
   "source": [
    "url=\"https://en.m.wikipedia.org/wiki/Template:Sumo_rank\"\n",
    "response = requests.get(url)\n",
    "soup=bs(response.text,'html.parser')\n",
    "things=soup.find_all('li')\n",
    "things"
   ]
  },
  {
   "cell_type": "code",
   "execution_count": null,
   "metadata": {},
   "outputs": [],
   "source": []
  }
 ],
 "metadata": {
  "kernelspec": {
   "display_name": "Python 2",
   "language": "python",
   "name": "python2"
  },
  "language_info": {
   "codemirror_mode": {
    "name": "ipython",
    "version": 2
   },
   "file_extension": ".py",
   "mimetype": "text/x-python",
   "name": "python",
   "nbconvert_exporter": "python",
   "pygments_lexer": "ipython2",
   "version": "2.7.15"
  }
 },
 "nbformat": 4,
 "nbformat_minor": 2
}
